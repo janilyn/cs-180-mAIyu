{
 "cells": [
  {
   "cell_type": "markdown",
   "id": "7e6e7977",
   "metadata": {},
   "source": [
    "# Utility functions"
   ]
  },
  {
   "cell_type": "code",
   "execution_count": 1,
   "id": "6039b5f1",
   "metadata": {},
   "outputs": [],
   "source": [
    "def check(item, func, answer):\n",
    "  print(item, \"| \", end=\"\")\n",
    "  try:\n",
    "    assert func == answer\n",
    "    print(\"Pass: returns\", func)\n",
    "  except AssertionError:\n",
    "    print(\"Fail: returns\", func, \"but should be\", answer)"
   ]
  },
  {
   "cell_type": "code",
   "execution_count": 2,
   "id": "130810dd",
   "metadata": {},
   "outputs": [],
   "source": [
    "def set_terminal(node):\n",
    "    attrs = [f'shape=box']\n",
    "    attrs += [f'color=hotpink'] if not node.children else [f'color=dimgray']\n",
    "    # attrs += [f'color={node.color}'] if hasattr(node, 'color') else []\n",
    "    # attrs += [f'shape={node.shape}'] if hasattr(node, 'shape') else [f'shape=box']\n",
    "    return ', '.join(attrs)"
   ]
  },
  {
   "cell_type": "code",
   "execution_count": null,
   "id": "7397356d",
   "metadata": {},
   "outputs": [],
   "source": []
  }
 ],
 "metadata": {
  "kernelspec": {
   "display_name": "Python 3 (ipykernel)",
   "language": "python",
   "name": "python3"
  },
  "language_info": {
   "codemirror_mode": {
    "name": "ipython",
    "version": 3
   },
   "file_extension": ".py",
   "mimetype": "text/x-python",
   "name": "python",
   "nbconvert_exporter": "python",
   "pygments_lexer": "ipython3",
   "version": "3.7.3"
  }
 },
 "nbformat": 4,
 "nbformat_minor": 5
}
